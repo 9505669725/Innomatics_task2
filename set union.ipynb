{
 "cells": [
  {
   "cell_type": "markdown",
   "id": "f599d3fb",
   "metadata": {},
   "source": []
  },
  {
   "cell_type": "code",
   "execution_count": 2,
   "id": "ef8ec86a",
   "metadata": {},
   "outputs": [
    {
     "name": "stdout",
     "output_type": "stream",
     "text": [
      "9\n",
      "1 2 3 4 5 6 7 8 9\n",
      "9\n",
      "10 1 2 3 11 21 55 6 8\n",
      "11\n"
     ]
    }
   ],
   "source": [
    "n=int(input())\n",
    "a=list(input())\n",
    "x=int(input())\n",
    "b=list(input())\n",
    "\n",
    "s1=set(a)\n",
    "s2=set(b)\n",
    "\n",
    "print(len(s1.union(s2)))"
   ]
  },
  {
   "cell_type": "markdown",
   "id": "dc157d26",
   "metadata": {},
   "source": []
  }
 ],
 "metadata": {
  "kernelspec": {
   "display_name": "Python 3 (ipykernel)",
   "language": "python",
   "name": "python3"
  },
  "language_info": {
   "codemirror_mode": {
    "name": "ipython",
    "version": 3
   },
   "file_extension": ".py",
   "mimetype": "text/x-python",
   "name": "python",
   "nbconvert_exporter": "python",
   "pygments_lexer": "ipython3",
   "version": "3.9.12"
  }
 },
 "nbformat": 4,
 "nbformat_minor": 5
}
