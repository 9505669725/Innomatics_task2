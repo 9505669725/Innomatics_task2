{
 "cells": [
  {
   "cell_type": "code",
   "execution_count": 2,
   "id": "e092ab84",
   "metadata": {},
   "outputs": [
    {
     "name": "stdout",
     "output_type": "stream",
     "text": [
      "9\n",
      "1 2 3 4 5 6 7 8 9\n",
      "9\n",
      "1 2 3 5 6 10 11 12 13\n",
      "4\n"
     ]
    }
   ],
   "source": [
    "n=int(input())\n",
    "a=list(input())\n",
    "x=int(input())\n",
    "b=list(input())\n",
    "\n",
    "s1=set(a)\n",
    "s2=set(b)\n",
    "\n",
    "print(len(s1.difference(s2)))"
   ]
  },
  {
   "cell_type": "markdown",
   "id": "f719e39d",
   "metadata": {},
   "source": [
    "# "
   ]
  }
 ],
 "metadata": {
  "kernelspec": {
   "display_name": "Python 3 (ipykernel)",
   "language": "python",
   "name": "python3"
  },
  "language_info": {
   "codemirror_mode": {
    "name": "ipython",
    "version": 3
   },
   "file_extension": ".py",
   "mimetype": "text/x-python",
   "name": "python",
   "nbconvert_exporter": "python",
   "pygments_lexer": "ipython3",
   "version": "3.9.12"
  }
 },
 "nbformat": 4,
 "nbformat_minor": 5
}
