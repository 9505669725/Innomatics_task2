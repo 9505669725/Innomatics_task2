{
 "cells": [
  {
   "cell_type": "raw",
   "id": "6f193512",
   "metadata": {},
   "source": []
  },
  {
   "cell_type": "markdown",
   "id": "62f3ca8c",
   "metadata": {},
   "source": [
    "# set discard_pop_remove"
   ]
  },
  {
   "cell_type": "code",
   "execution_count": 1,
   "id": "6ff3fa9a",
   "metadata": {},
   "outputs": [
    {
     "name": "stdout",
     "output_type": "stream",
     "text": [
      "9\n",
      "1 2 3 4 5 6 7 8 9\n",
      "10\n",
      "pop\n",
      "remove 9\n",
      "discard 9\n",
      "discard 8\n",
      "remove 7\n",
      "pop\n",
      "discard 6\n",
      "remove 5\n",
      "pop\n",
      "discard 5\n",
      "4\n"
     ]
    }
   ],
   "source": [
    "n = input()\n",
    "s = set(map(int, input().split()))\n",
    "for i in range(int(input())):\n",
    "    x = input().split()\n",
    "    if x[0] == 'pop':\n",
    "        s.pop()\n",
    "    elif x == 'remove':\n",
    "        s.remove(int(x[1]))\n",
    "    else:\n",
    "        s.discard(int(x[1]))\n",
    "print(sum(s))"
   ]
  },
  {
   "cell_type": "code",
   "execution_count": null,
   "id": "a48bc897",
   "metadata": {},
   "outputs": [],
   "source": []
  }
 ],
 "metadata": {
  "kernelspec": {
   "display_name": "Python 3 (ipykernel)",
   "language": "python",
   "name": "python3"
  },
  "language_info": {
   "codemirror_mode": {
    "name": "ipython",
    "version": 3
   },
   "file_extension": ".py",
   "mimetype": "text/x-python",
   "name": "python",
   "nbconvert_exporter": "python",
   "pygments_lexer": "ipython3",
   "version": "3.9.12"
  }
 },
 "nbformat": 4,
 "nbformat_minor": 5
}
